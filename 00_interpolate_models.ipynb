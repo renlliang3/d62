{
 "cells": [
  {
   "cell_type": "code",
   "execution_count": 188,
   "metadata": {},
   "outputs": [],
   "source": [
    "import matplotlib.pyplot as plt\n",
    "import scipy\n",
    "import numpy as np\n",
    "from astropy.coordinates import SkyCoord\n",
    "from astropy.io import fits\n",
    "import lightkurve as lk\n",
    "import glob\n",
    "from tqdm import tqdm\n",
    "import pickle\n",
    "\n",
    "import sys\n",
    "plt.rcParams.update({'font.size': 22})\n",
    "\n",
    "sys.path.append('../../WD_models/')\n",
    "from sed_fitter import FitSED\n",
    "\n",
    "plt.style.use('vedant')\n",
    "\n",
    "c = 2.998e10\n",
    "k = 1.38e-16\n",
    "h = 6.626e-27\n",
    "\n",
    "from scipy.interpolate import RegularGridInterpolator as rgi\n",
    "from scipy.interpolate import LinearNDInterpolator as lndi"
   ]
  },
  {
   "cell_type": "code",
   "execution_count": 197,
   "metadata": {},
   "outputs": [],
   "source": [
    "wd_files = glob.glob('blouin/lowlogg_H4/*')"
   ]
  },
  {
   "cell_type": "code",
   "execution_count": 301,
   "metadata": {},
   "outputs": [
    {
     "name": "stderr",
     "output_type": "stream",
     "text": [
      "\r",
      "  0%|          | 0/50 [00:00<?, ?it/s]"
     ]
    },
    {
     "name": "stdout",
     "output_type": "stream",
     "text": [
      "spec\n",
      "spec\n",
      "spec\n",
      "spec\n",
      "spec\n",
      "spec\n",
      "spec\n"
     ]
    },
    {
     "name": "stderr",
     "output_type": "stream",
     "text": [
      "  0%|          | 0/50 [00:05<?, ?it/s]\n"
     ]
    }
   ],
   "source": [
    "wd_fls = [];\n",
    "wd_teffs = [];\n",
    "wd_loggs = [];\n",
    "wd_wls = [];\n",
    "wd_cahs = [];\n",
    "\n",
    "for file in tqdm(wd_files):\n",
    "    \n",
    "    f = open(file)\n",
    "    lines = f.readlines()\n",
    "    f.close()\n",
    "\n",
    "    wl = [];\n",
    "    for line in lines[16:2169]:\n",
    "        wl_seg = [float(jj) for jj in line.split()]\n",
    "        wl.extend(wl_seg)\n",
    "\n",
    "    for line in lines[2169:2204]:\n",
    "\n",
    "        wl_seg_str = [line[0:8], line[8:16], line[16:24], line[24:32], line[32:40], line[40:48], line[48:56],\n",
    "                      line[56:64], line[64:72], line[72:80]]\n",
    "        wl_seg = [float(wlseg) for wlseg in wl_seg_str]\n",
    "        wl.extend(wl_seg)\n",
    "\n",
    "    line = lines[2204]\n",
    "    wl_seg_str = [line[0:8], line[8:16], line[16:24], line[24:32], line[32:40], line[40:48]]\n",
    "    wl_seg = [float(wlseg) for wlseg in wl_seg_str]\n",
    "    wl.extend(wl_seg)\n",
    "\n",
    "    wl = np.asarray(wl[18:])\n",
    "\n",
    "    logg = np.log10(float(lines[2205].split()[6]))\n",
    "    cah = np.log10(float(lines[2205].split()[12]))\n",
    "\n",
    "    for line in (lines[2205:]):\n",
    "        idx = lines.index(line) + 29\n",
    "        if  'Effective' in line.split()[0]:\n",
    "            \n",
    "            print('spec')\n",
    "            \n",
    "            teff = float(line.split()[3])\n",
    "            \n",
    "            fl = [];\n",
    "            for subline in lines[idx:(idx+3645)]:\n",
    "                fl_seg = [float(jj) for jj in subline.split()]\n",
    "                fl.extend(fl_seg)\n",
    "\n",
    "            fl = np.asarray(fl)\n",
    "\n",
    "            wd_fls.append(fl)\n",
    "            wd_teffs.append(teff)\n",
    "            wd_loggs.append(logg)\n",
    "            wd_cahs.append(cah)\n",
    "            wd_wls.append(wl)\n",
    "    break"
   ]
  },
  {
   "cell_type": "code",
   "execution_count": 304,
   "metadata": {},
   "outputs": [
    {
     "data": {
      "text/plain": [
       "array([1.3541e-81, 3.3912e-81, 2.1316e-80, ..., 4.0449e-07, 3.9677e-07,\n",
       "       3.8920e-07])"
      ]
     },
     "execution_count": 304,
     "metadata": {},
     "output_type": "execute_result"
    }
   ],
   "source": [
    "wd_fls[5]"
   ]
  },
  {
   "cell_type": "code",
   "execution_count": 241,
   "metadata": {},
   "outputs": [
    {
     "data": {
      "text/plain": [
       "(6500.0, 6600.0)"
      ]
     },
     "execution_count": 241,
     "metadata": {},
     "output_type": "execute_result"
    },
    {
     "data": {
      "image/png": "[encoded data removed]",
      "text/plain": [
       "<Figure size 576x432 with 1 Axes>"
      ]
     },
     "metadata": {
      "needs_background": "light"
     },
     "output_type": "display_data"
    }
   ],
   "source": [
    "plt.plot(wl, fl / np.median(fl))\n",
    "plt.xlim(6500, 6600)"
   ]
  },
  {
   "cell_type": "code",
   "execution_count": 256,
   "metadata": {},
   "outputs": [],
   "source": [
    "wd_fls = np.asarray(wd_fls)\n",
    "wd_wls = np.asarray(wd_wls)\n",
    "wd_loggs = np.asarray(wd_loggs)\n",
    "wd_teffs = np.asarray(wd_teffs)\n",
    "wd_cahs = np.asarray(wd_cahs)"
   ]
  },
  {
   "cell_type": "code",
   "execution_count": 243,
   "metadata": {},
   "outputs": [],
   "source": [
    "all_data = (wd_wls[0], wd_fls, wd_teffs, wd_loggs, wd_cahs)"
   ]
  },
  {
   "cell_type": "code",
   "execution_count": 244,
   "metadata": {},
   "outputs": [],
   "source": [
    "pickle.dump(all_data, open('blouin/spec.pkl', 'wb'))"
   ]
  },
  {
   "cell_type": "code",
   "execution_count": 310,
   "metadata": {},
   "outputs": [],
   "source": [
    "wl, wd_fls, wd_teffs, wd_loggs, wd_cahs = pickle.load(open('blouin/spec.pkl', 'rb'))"
   ]
  },
  {
   "cell_type": "code",
   "execution_count": 311,
   "metadata": {},
   "outputs": [],
   "source": [
    "wd_cahs = np.asarray(wd_cahs)"
   ]
  },
  {
   "cell_type": "code",
   "execution_count": 312,
   "metadata": {},
   "outputs": [
    {
     "data": {
      "text/plain": [
       "<matplotlib.collections.PathCollection at 0x7fd9cfd28f90>"
      ]
     },
     "execution_count": 312,
     "metadata": {},
     "output_type": "execute_result"
    },
    {
     "data": {
      "image/png": "[encoded data removed]",
      "text/plain": [
       "<Figure size 576x432 with 1 Axes>"
      ]
     },
     "metadata": {
      "needs_background": "light"
     },
     "output_type": "display_data"
    }
   ],
   "source": [
    "plt.scatter(wd_teffs, wd_loggs)"
   ]
  },
  {
   "cell_type": "code",
   "execution_count": 313,
   "metadata": {},
   "outputs": [
    {
     "data": {
      "text/plain": [
       "<matplotlib.collections.PathCollection at 0x7fd97adc0390>"
      ]
     },
     "execution_count": 313,
     "metadata": {},
     "output_type": "execute_result"
    },
    {
     "data": {
      "image/png": "[encoded data removed]",
      "text/plain": [
       "<Figure size 576x432 with 1 Axes>"
      ]
     },
     "metadata": {
      "needs_background": "light"
     },
     "output_type": "display_data"
    }
   ],
   "source": [
    "plt.scatter(wd_cahs, wd_loggs)"
   ]
  },
  {
   "cell_type": "code",
   "execution_count": 314,
   "metadata": {},
   "outputs": [],
   "source": [
    "teffs = np.sort(wd_teffs[(wd_loggs == 6)*(wd_cahs == -10)])\n",
    "loggs = np.sort(wd_loggs[(wd_teffs == 6000)*(wd_cahs == -10)])\n",
    "cahs = np.sort(wd_cahs[(wd_teffs == 6000)*(wd_loggs == 6)])"
   ]
  },
  {
   "cell_type": "code",
   "execution_count": 317,
   "metadata": {},
   "outputs": [
    {
     "data": {
      "text/plain": [
       "array([-12.        , -11.50003813, -11.        , -10.50003813,\n",
       "       -10.        ,  -9.50003813,  -9.        ,  -8.50003813,\n",
       "        -8.        ,  -7.50003813])"
      ]
     },
     "execution_count": 317,
     "metadata": {},
     "output_type": "execute_result"
    }
   ],
   "source": [
    "cahs"
   ]
  },
  {
   "cell_type": "code",
   "execution_count": 320,
   "metadata": {},
   "outputs": [],
   "source": [
    "A,B,C,D = np.meshgrid(teffs, loggs, cahs, np.log10(wl))\n",
    "vals = np.zeros(A.shape)"
   ]
  },
  {
   "cell_type": "code",
   "execution_count": 322,
   "metadata": {},
   "outputs": [
    {
     "data": {
      "text/plain": [
       "array([ True,  True,  True,  True,  True,  True,  True, False, False,\n",
       "       False, False, False, False, False, False, False, False, False,\n",
       "       False, False, False,  True,  True,  True,  True,  True,  True,\n",
       "        True,  True,  True,  True,  True,  True,  True,  True, False,\n",
       "       False, False, False, False, False, False, False, False, False,\n",
       "       False, False, False, False, False, False, False, False, False,\n",
       "       False, False,  True,  True,  True,  True,  True,  True,  True,\n",
       "       False, False, False, False, False, False, False, False, False,\n",
       "       False, False, False, False, False, False, False, False, False,\n",
       "       False, False, False, False, False, False, False, False, False,\n",
       "       False, False, False, False, False, False, False, False, False,\n",
       "       False, False, False, False, False, False, False, False, False,\n",
       "       False, False, False, False, False, False, False, False, False,\n",
       "       False, False, False, False, False, False, False, False, False,\n",
       "       False, False, False, False, False, False, False, False, False,\n",
       "       False, False, False, False, False, False, False, False, False,\n",
       "       False, False, False, False, False, False, False, False, False,\n",
       "       False, False, False, False, False, False, False, False, False,\n",
       "       False, False, False, False, False, False, False, False, False,\n",
       "       False, False, False, False, False, False, False, False, False,\n",
       "       False, False, False, False, False, False, False, False, False,\n",
       "       False, False, False, False, False, False, False, False, False,\n",
       "       False, False, False, False, False, False, False, False, False,\n",
       "       False, False, False, False, False, False, False, False, False,\n",
       "       False, False, False, False, False, False, False, False, False,\n",
       "       False, False, False, False, False, False, False, False, False,\n",
       "       False, False, False, False, False, False, False, False, False,\n",
       "       False, False, False, False, False, False, False, False, False,\n",
       "       False, False, False, False, False, False, False, False, False,\n",
       "       False, False, False, False, False,  True,  True,  True,  True,\n",
       "        True,  True,  True, False, False, False, False, False, False,\n",
       "       False, False, False, False, False, False, False, False, False,\n",
       "       False, False, False, False, False, False, False, False, False,\n",
       "       False, False, False, False, False, False, False, False, False,\n",
       "       False, False, False, False, False, False, False, False, False,\n",
       "       False, False, False, False, False, False, False, False, False,\n",
       "       False, False, False, False, False, False, False, False, False,\n",
       "       False, False, False, False, False, False, False, False, False,\n",
       "       False, False, False, False, False, False, False, False])"
      ]
     },
     "execution_count": 322,
     "metadata": {},
     "output_type": "execute_result"
    }
   ],
   "source": [
    "(wd_cahs == wd_cahs[kk])"
   ]
  },
  {
   "cell_type": "code",
   "execution_count": 330,
   "metadata": {},
   "outputs": [
    {
     "data": {
      "text/plain": [
       "10"
      ]
     },
     "execution_count": 330,
     "metadata": {},
     "output_type": "execute_result"
    }
   ],
   "source": [
    "vals.shape[2]"
   ]
  },
  {
   "cell_type": "code",
   "execution_count": 335,
   "metadata": {},
   "outputs": [
    {
     "data": {
      "text/plain": [
       "10"
      ]
     },
     "execution_count": 335,
     "metadata": {},
     "output_type": "execute_result"
    }
   ],
   "source": [
    "len(cahs)"
   ]
  },
  {
   "cell_type": "code",
   "execution_count": 338,
   "metadata": {},
   "outputs": [
    {
     "data": {
      "text/plain": [
       "array([6000., 6000., 6000., ..., 6000., 6000., 6000.])"
      ]
     },
     "execution_count": 338,
     "metadata": {},
     "output_type": "execute_result"
    }
   ],
   "source": [
    "A[0, 0, 0]"
   ]
  },
  {
   "cell_type": "code",
   "execution_count": 344,
   "metadata": {},
   "outputs": [
    {
     "name": "stderr",
     "output_type": "stream",
     "text": [
      "100%|██████████| 5/5 [00:11<00:00,  2.40s/it]\n"
     ]
    }
   ],
   "source": [
    "for ii in tqdm(range(vals.shape[0])):\n",
    "    for jj in range(vals.shape[1]):\n",
    "        for kk in range(vals.shape[2]):\n",
    "            \n",
    "            search = (\n",
    "                (wd_teffs == A[ii, jj, kk, 0])*\n",
    "                (wd_loggs == B[ii, jj, kk, 0])*\n",
    "                (wd_cahs == C[ii, jj, kk, 0])\n",
    "            \n",
    "            )\n",
    "                        \n",
    "            #print(np.sum(search))\n",
    "            fl =  wd_fls[search][0]\n",
    "            #print(fl)\n",
    "            for aa in range(vals.shape[3]):\n",
    "                vals[ii, jj, kk, aa] = np.log10(fl[aa])"
   ]
  },
  {
   "cell_type": "code",
   "execution_count": 345,
   "metadata": {},
   "outputs": [],
   "source": [
    "interpwd = rgi(points = [loggs, teffs, cahs, np.log10(wl)], values = vals)"
   ]
  },
  {
   "cell_type": "code",
   "execution_count": 346,
   "metadata": {},
   "outputs": [
    {
     "data": {
      "image/png": "[encoded data removed]",
      "text/plain": [
       "<Figure size 576x432 with 1 Axes>"
      ]
     },
     "metadata": {
      "needs_background": "light"
     },
     "output_type": "display_data"
    }
   ],
   "source": [
    "plt.plot(wl, 10**interpwd((6, 7900, -11, np.log10(wl))))\n",
    "plt.xscale('log')"
   ]
  },
  {
   "cell_type": "code",
   "execution_count": 347,
   "metadata": {},
   "outputs": [],
   "source": [
    "pickle.dump(interpwd, open('blouin/interpwd.pkl', 'wb'))"
   ]
  },
  {
   "cell_type": "code",
   "execution_count": 295,
   "metadata": {},
   "outputs": [
    {
     "data": {
      "text/plain": [
       "array([-12.        , -11.50003813, -11.        , -10.50003813,\n",
       "       -10.        ,  -9.50003813,  -9.        ,  -8.50003813,\n",
       "        -8.        ,  -7.50003813])"
      ]
     },
     "execution_count": 295,
     "metadata": {},
     "output_type": "execute_result"
    }
   ],
   "source": [
    "cahs"
   ]
  },
  {
   "cell_type": "code",
   "execution_count": null,
   "metadata": {},
   "outputs": [],
   "source": []
  }
 ],
 "metadata": {
  "kernelspec": {
   "display_name": "Python [conda env:wdtools] *",
   "language": "python",
   "name": "conda-env-wdtools-py"
  },
  "language_info": {
   "codemirror_mode": {
    "name": "ipython",
    "version": 3
   },
   "file_extension": ".py",
   "mimetype": "text/x-python",
   "name": "python",
   "nbconvert_exporter": "python",
   "pygments_lexer": "ipython3",
   "version": "3.7.6"
  }
 },
 "nbformat": 4,
 "nbformat_minor": 4
}
